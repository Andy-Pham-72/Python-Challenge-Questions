{
 "cells": [
  {
   "cell_type": "markdown",
   "metadata": {},
   "source": [
    "# Word with most repeated letters\n",
    "\n",
    "Write a function, `most_repeating_word`, that reads a string from standard input.\n",
    "\n",
    "**The function should return the word that contains the greatest number of repeated letters.** In other word:\n",
    "- For each word, find the letter that appears the most times.\n",
    "- Find the word whose most-repeated letter appears more than any other.\n",
    "\n",
    "That is when `most_repeating_word()` is call, and reads the string **\"this is an elementary test example\"** from standard input, then your function should return `elementary`.\n",
    "\n",
    "That's because:\n",
    "\n",
    "- **this** has no repeating letters.\n",
    "- **is** has no repeating letters.\n",
    "- **an** has no repeating letters.\n",
    "- **elementary** has one repeating letter since `e` appears 3 times.\n",
    "- **test** has one repeating letter since `t` which appears twice.\n",
    "- **example** has one repeating letter since `e` which appears twice.\n",
    "\n",
    "So the most common letter in *elementary* appears more often than the most common letters in any of other words. (**If it's a tie, then any of the appropriate words can be returned.**)\n"
   ]
  },
  {
   "cell_type": "code",
   "execution_count": 10,
   "metadata": {},
   "outputs": [],
   "source": [
    "# Complete the \"most_repeating_word\" function below.\n",
    "# It will read inputted lines from standard input.\n",
    "# The function is expected to return a STRING\n",
    "\n",
    "def most_repeating_word(string):\n",
    "    '''\n",
    "    The function will return the word that contains the greatest number of repeated letters\n",
    "    eg: \n",
    "    > most_repeating_word(\"this is an elementary test example\")\n",
    "    > elementary\n",
    "    '''\n",
    "    \n",
    "    words = string.split() # split the string into a list of words\n",
    "    \n",
    "    max_repeat_count = 0 \n",
    "    \n",
    "    for word in words:\n",
    "        \n",
    "        dictionary = {} # create a dictionary variable\n",
    "        \n",
    "        for letter in word: # loop through the letters of the word\n",
    "            \n",
    "            if letter not in dictionary: \n",
    "                \n",
    "                dictionary[letter] = 1 # assign 1 to the letter that isn't contained in 'dictionary'\n",
    "            \n",
    "            else:\n",
    "                dictionary[letter] += 1 # add 1 if there is any repeating letter\n",
    "                \n",
    "            if dictionary[letter] > max_repeat_count: # it will iterate untill finding the letter that has the highest repeating number.\n",
    "                \n",
    "                # assign the number of repeating letter into the variable 'max_repeat_count'\n",
    "                max_repeat_count = dictionary[letter] \n",
    "                \n",
    "                # assign the word with highest repeating number\n",
    "                result = word \n",
    "                \n",
    "    return result\n"
   ]
  },
  {
   "cell_type": "code",
   "execution_count": 11,
   "metadata": {},
   "outputs": [
    {
     "data": {
      "text/plain": [
       "'elementary'"
      ]
     },
     "execution_count": 11,
     "metadata": {},
     "output_type": "execute_result"
    }
   ],
   "source": [
    "# Test the function\n",
    "\n",
    "sentence_1 = \"this is an elementary test example\"\n",
    "\n",
    "most_repeating_word(sentence_1)"
   ]
  },
  {
   "cell_type": "code",
   "execution_count": 3,
   "metadata": {},
   "outputs": [
    {
     "data": {
      "text/plain": [
       "'choose'"
      ]
     },
     "execution_count": 3,
     "metadata": {},
     "output_type": "execute_result"
    }
   ],
   "source": [
    "sentence_2 = \"choose the letter like you would a good pen\"\n",
    "\n",
    "most_repeating_word(sentence_2)"
   ]
  },
  {
   "cell_type": "markdown",
   "metadata": {},
   "source": [
    "END."
   ]
  }
 ],
 "metadata": {
  "kernelspec": {
   "display_name": "Python 3",
   "language": "python",
   "name": "python3"
  },
  "language_info": {
   "codemirror_mode": {
    "name": "ipython",
    "version": 3
   },
   "file_extension": ".py",
   "mimetype": "text/x-python",
   "name": "python",
   "nbconvert_exporter": "python",
   "pygments_lexer": "ipython3",
   "version": "3.8.5"
  }
 },
 "nbformat": 4,
 "nbformat_minor": 4
}
