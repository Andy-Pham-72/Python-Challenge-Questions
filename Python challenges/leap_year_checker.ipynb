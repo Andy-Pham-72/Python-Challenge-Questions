{
 "cells": [
  {
   "cell_type": "markdown",
   "metadata": {},
   "source": [
    "A **leap year** is exactly **divisible by 4** except for century years (years ending with `00`). The century year is a **leap year** only if it is perfectly divisible by **`400`**.\n",
    "\n",
    "For example,\n",
    "\n",
    "2017 is not a leap year\n",
    "\n",
    "1900 is not a leap year\n",
    "\n",
    "2012 is a leap year\n",
    "\n",
    "2000 is a leap year\n",
    "\n",
    "Challenge: Write a function to find whether the input year is leap year or not."
   ]
  },
  {
   "cell_type": "code",
   "execution_count": 14,
   "metadata": {},
   "outputs": [
    {
     "name": "stdin",
     "output_type": "stream",
     "text": [
      " 1991\n"
     ]
    },
    {
     "name": "stdout",
     "output_type": "stream",
     "text": [
      "1991 is not a leap year\n"
     ]
    }
   ],
   "source": [
    "# Write a program to check \n",
    "\n",
    "year = int(input())\n",
    "\n",
    "if (year% 4) == 0:\n",
    "    if (year % 100) == 0:\n",
    "        if (year % 400) == 0:\n",
    "            print(\"{0} is a leap year\".format(year))\n",
    "        else:\n",
    "            print(\"{0} is not a leap year\".format(year))\n",
    "    else:\n",
    "        print(\"{0} is a leap year\".format(year))\n",
    "else:\n",
    "    print(\"{0} is not a leap year\".format(year))\n",
    "    "
   ]
  },
  {
   "cell_type": "code",
   "execution_count": 10,
   "metadata": {},
   "outputs": [],
   "source": [
    "def leap_year_check(num):\n",
    "    '''\n",
    "    The function that helps to check whether the input year is a leap year or not\n",
    "    '''\n",
    "    \n",
    "    if (num% 4) == 0:\n",
    "        if (num % 100) == 0:\n",
    "            if (num % 400) == 0:\n",
    "                print(\"{0} is a leap year\".format(num))\n",
    "            else:\n",
    "                print(\"{0} is not a leap year\".format(num))\n",
    "        else:\n",
    "            print(\"{0} is a leap year\".format(num))\n",
    "    else:\n",
    "        print(\"{0} is not a leap year\".format(num))"
   ]
  },
  {
   "cell_type": "code",
   "execution_count": 9,
   "metadata": {},
   "outputs": [
    {
     "name": "stdout",
     "output_type": "stream",
     "text": [
      "2019 is not a leap year\n"
     ]
    }
   ],
   "source": [
    "leap_year_check(2019)"
   ]
  }
 ],
 "metadata": {
  "kernelspec": {
   "display_name": "Python 3",
   "language": "python",
   "name": "python3"
  },
  "language_info": {
   "codemirror_mode": {
    "name": "ipython",
    "version": 3
   },
   "file_extension": ".py",
   "mimetype": "text/x-python",
   "name": "python",
   "nbconvert_exporter": "python",
   "pygments_lexer": "ipython3",
   "version": "3.8.5"
  }
 },
 "nbformat": 4,
 "nbformat_minor": 4
}
