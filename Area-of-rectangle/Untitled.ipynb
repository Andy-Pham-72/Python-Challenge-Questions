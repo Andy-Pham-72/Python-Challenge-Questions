{
 "cells": [
  {
   "cell_type": "markdown",
   "metadata": {},
   "source": [
    "## Problem:\n",
    "\n",
    "Create a class to find out the cost of a rectangular field with:\n",
    "- **breadth(b = 120), length(l = 160)**.\n",
    "\n",
    "- **it costs x (2000) rupees/ square**\n",
    "\n",
    "## Solution\n",
    "\n"
   ]
  },
  {
   "cell_type": "code",
   "execution_count": 3,
   "metadata": {},
   "outputs": [],
   "source": [
    "class Rectangle:\n",
    "    def __init__(self, length, breadth, unit_cost= 0):\n",
    "        self.length = length\n",
    "        self.breadth = breadth\n",
    "        self.unit_cost = unit_cost\n",
    "        \n",
    "    def get_perimeter(self):\n",
    "        return 2 * (self.length + self.breadth)\n",
    "    \n",
    "    def get_area(self):\n",
    "        return self.length * self.breadth\n",
    "    \n",
    "    def calculate_cost(self):\n",
    "        area = self.get_area()\n",
    "        return area * self.unit_cost"
   ]
  },
  {
   "cell_type": "code",
   "execution_count": 4,
   "metadata": {},
   "outputs": [
    {
     "name": "stdout",
     "output_type": "stream",
     "text": [
      "Area of Rectangle: 19200 cm^2 \n",
      "Perimeter of the Retangle: 560 cm \n",
      "Cost of Rectangular field: Rs. 38400000 \n"
     ]
    }
   ],
   "source": [
    "# breadth = 120 cm, \n",
    "#length = 160 cm, \n",
    "# 1 cm^2 = Ruby 2000\n",
    "\n",
    "r = Rectangle(160, 120, 2000)\n",
    "\n",
    "print(\"Area of Rectangle: %s cm^2 \" % (r.get_area()))\n",
    "\n",
    "print(\"Perimeter of the Retangle: %s cm \" % (r.get_perimeter()))\n",
    "\n",
    "print(\"Cost of Rectangular field: Rs. %s \" % (r.calculate_cost()))"
   ]
  },
  {
   "cell_type": "markdown",
   "metadata": {},
   "source": [
    "## Supplemental reading:\n",
    "\n",
    "- [__init__ in Python](https://www.geeksforgeeks.org/__init__-in-python/)\n"
   ]
  }
 ],
 "metadata": {
  "kernelspec": {
   "display_name": "Python 3",
   "language": "python",
   "name": "python3"
  },
  "language_info": {
   "codemirror_mode": {
    "name": "ipython",
    "version": 3
   },
   "file_extension": ".py",
   "mimetype": "text/x-python",
   "name": "python",
   "nbconvert_exporter": "python",
   "pygments_lexer": "ipython3",
   "version": "3.8.5"
  }
 },
 "nbformat": 4,
 "nbformat_minor": 4
}
