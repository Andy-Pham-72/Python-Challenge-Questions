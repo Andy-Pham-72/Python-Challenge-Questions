{
 "cells": [
  {
   "cell_type": "markdown",
   "metadata": {},
   "source": [
    "## Iterables and Iterators.\n",
    "\n",
    "The **itertools** module standardizes a core set of fast, memory efficient tools that are useful by themselves or in combination. Together, they form an iterator algebra making it possible to construct specialized tools succinctly and effectively in pure Python. [Documentation](https://docs.python.org/2/library/itertools.html)\n",
    "\n",
    "**Problem:** You are given:\n",
    "- A list of **N** lowercase English letters. \n",
    "- For a given integer **K**, you can select any **K** indices (assume 1-based indexing) with an uniform probability from the list.\n",
    "\n",
    "Find the probability that at least one of the **K** indices selected will contain the letter **`a`**.\n",
    "\n",
    "**Input Format**\n",
    "- The input consists of three lines:\n",
    "    * The first line contains the integers `N`, denoting the length of the list.\n",
    "    * The next line consists of `N` spaced-separated lowercase English letters, denoting the elements of the list.\n",
    "    * The third and the last line of input contains the integer `K`, denoting the number of indices to be selected.\n",
    "\n",
    "**Output Format**\n",
    "Output a single line consisting of the probability that at least one of the `K` indices selected contains the letter: **`a`** .\n",
    "\n",
    "**NOTE:** the answer must be correct up to 3 decimal places.\n",
    "\n",
    "**Constraints**\n",
    "1 =< N =< 10\n",
    "1 =< K =< 10\n",
    "All the letters in the list are lowercase English letters.\n",
    "\n",
    "**Sample Input**\n",
    "```\n",
    "4\n",
    "a a c d\n",
    "2\n",
    "```\n",
    "\n",
    "**Sample Output**\n",
    "```\n",
    "0.8333\n",
    "```\n",
    "\n",
    "**Explanation:**\n",
    "All possible unordered tuples of length 2 comprising of indices from `1` to `4` are:\n",
    "(1 , 2), (1 , 3), (1 , 4), (2 , 3), (2 , 4), (3 , 4)\n",
    "\n",
    "=> Out of these 6 combinations, 5 of them contain either index 1 or index 2 which are the indices that contain the letter `a`.\n",
    "\n",
    "Hence, the answer is `5 / 6 = 0.8333`\n",
    "\n",
    "**Please note that this is a combination problem since the order does not matter!**\n",
    "\n",
    "**Supplemental materials about permutation and combination (if you are not familiar with the topic)**:\n",
    "- [What is a Permutation? Learn the Permutation Formula](https://www.youtube.com/watch?v=oT64b5euTfs)\n",
    "- [Permutations and Combinations Tutorial](https://www.youtube.com/watch?v=XJnIdRXUi7A)\n",
    "\n",
    "# SOLUTION 1"
   ]
  },
  {
   "cell_type": "code",
   "execution_count": 19,
   "metadata": {},
   "outputs": [
    {
     "name": "stdin",
     "output_type": "stream",
     "text": [
      " 4\n",
      " a a c d\n",
      " 2\n"
     ]
    },
    {
     "name": "stdout",
     "output_type": "stream",
     "text": [
      "0.833\n"
     ]
    }
   ],
   "source": [
    "from itertools import combinations\n",
    "\n",
    "# Read input from STDIN. Print output to STDOUT\n",
    "\n",
    "# Assign the len of list\n",
    "N = int(input())\n",
    "\n",
    "# Denote the element of list\n",
    "L = input().split()\n",
    "\n",
    "# Denote the number of indices to be selected\n",
    "K = int(input())\n",
    "\n",
    "# Create combination from L & K\n",
    "C = list(combinations(L , K))\n",
    "\n",
    "# Use lambda function within filter() \n",
    "F = filter(lambda c: 'a' in c, C)\n",
    "\n",
    "# print the output\n",
    "print(\"{:.3}\".format(len( list(F))/ len(C) ))"
   ]
  },
  {
   "cell_type": "markdown",
   "metadata": {},
   "source": [
    "Let unpack the variables `L`, `K`, `C` in order to understand the explanation :"
   ]
  },
  {
   "cell_type": "code",
   "execution_count": 25,
   "metadata": {},
   "outputs": [
    {
     "name": "stdin",
     "output_type": "stream",
     "text": [
      " a a c d\n"
     ]
    },
    {
     "name": "stdout",
     "output_type": "stream",
     "text": [
      "['a', 'a', 'c', 'd']\n"
     ]
    }
   ],
   "source": [
    "# We have a list:\n",
    "L = input().split()\n",
    "\n",
    "print(L)"
   ]
  },
  {
   "cell_type": "code",
   "execution_count": 13,
   "metadata": {},
   "outputs": [
    {
     "data": {
      "text/plain": [
       "[('a', 'a'), ('a', 'c'), ('a', 'd'), ('a', 'c'), ('a', 'd'), ('c', 'd')]"
      ]
     },
     "execution_count": 13,
     "metadata": {},
     "output_type": "execute_result"
    }
   ],
   "source": [
    "# We have combinations of L and K\n",
    "C = list(combinations(L , K))\n",
    "\n",
    "print(C)"
   ]
  },
  {
   "cell_type": "markdown",
   "metadata": {},
   "source": [
    "Here we have 6 combinations of the list [\"a\", \"a\", \"c\", \"d\"]."
   ]
  },
  {
   "cell_type": "code",
   "execution_count": 24,
   "metadata": {},
   "outputs": [
    {
     "name": "stdout",
     "output_type": "stream",
     "text": [
      "[('a', 'a'), ('a', 'c'), ('a', 'd'), ('a', 'c'), ('a', 'd')]\n"
     ]
    }
   ],
   "source": [
    "# Filter only the combinations that contain letter `a`:\n",
    "F = filter(lambda c: 'a' in c, C)\n",
    "\n",
    "print(list(F))"
   ]
  },
  {
   "cell_type": "markdown",
   "metadata": {},
   "source": [
    "Here we have **5 possibilities** that have letter `a` in the combinations.\n",
    "And with the **6 combinations** from the above list so we can easily calculate the probability of having letter `a` in the total combinations of **given 4 letters**.\n",
    "\n",
    "6 / 5 = 0.8333 (number up to 3 decimal places)\n",
    "\n",
    "In this case we don't really need the variable `N` but the question requires that for the input.\n"
   ]
  },
  {
   "cell_type": "markdown",
   "metadata": {},
   "source": [
    "# SOLUTION 2 \n",
    "(without using itertools)"
   ]
  },
  {
   "cell_type": "code",
   "execution_count": 31,
   "metadata": {},
   "outputs": [
    {
     "name": "stdin",
     "output_type": "stream",
     "text": [
      " 4\n",
      " a a c d\n",
      " 2\n"
     ]
    },
    {
     "name": "stdout",
     "output_type": "stream",
     "text": [
      "0.8333333333333333\n"
     ]
    }
   ],
   "source": [
    "from functools import reduce\n",
    "\n",
    "# Assign the len of list\n",
    "N = int(input())\n",
    "\n",
    "# Denote the element of list\n",
    "L = input().split()\n",
    "\n",
    "# Denote the number of indices to be selected\n",
    "K = int(input())\n",
    "\n",
    "# Count the numbers of letter \"a\" in the list\n",
    "M = \"\".join(L).count(\"a\")\n",
    "\n",
    "# Calculates the probability of not having letter \"a\" in the combinations\n",
    "P = reduce(lambda x,y: x*y, [(1.0 - M * 1.0/ (N-i)) for i in range(K)])\n",
    "\n",
    "# print the output\n",
    "print(1.0 - P)"
   ]
  },
  {
   "cell_type": "markdown",
   "metadata": {},
   "source": [
    "Let's unpack the variable `M` and `P`"
   ]
  },
  {
   "cell_type": "code",
   "execution_count": 34,
   "metadata": {},
   "outputs": [
    {
     "name": "stdout",
     "output_type": "stream",
     "text": [
      "2\n"
     ]
    }
   ],
   "source": [
    "# We have M is the numbers of letter \"a\" in the list L as below\n",
    "print(M)"
   ]
  },
  {
   "cell_type": "markdown",
   "metadata": {},
   "source": [
    "In order to unpack P, we can have a small example of applying reduce with the annonymous function."
   ]
  },
  {
   "cell_type": "code",
   "execution_count": 35,
   "metadata": {},
   "outputs": [
    {
     "data": {
      "text/plain": [
       "10"
      ]
     },
     "execution_count": 35,
     "metadata": {},
     "output_type": "execute_result"
    }
   ],
   "source": [
    "# Example\n",
    "numbers = [1, 2, 3, 4]\n",
    "\n",
    "print(reduce(lambda a, b: a + b, numbers))"
   ]
  },
  {
   "cell_type": "markdown",
   "metadata": {},
   "source": [
    "The `reduce()` implements the addition as `(((1 + 2) + 3) + 4) = 10`. [How to use reduce()](https://realpython.com/python-reduce-function/)\n",
    "\n",
    "We have a sequence of N characters and M number(which is 2) of them are `a`. We perform K selection of random elements from the sequence. The goal is to calculate the probability of at least one character in the selected K elements is `a`. But first let do some steps:\n",
    "- Let's calculate the probability (P) of an event where none of the selected elements is `a`. \n",
    "    * If K = 1, then the probability of selecting anything but `a` is P = (1 - M) / N\n",
    "    * If K = 2, we are selecting 2 elements. The probability of none of the 2 being `a` is the probability of the first element is not `a`: (1 - M/N) times the probability of the second element is not `a`: (1 - M / (N - 1)).\n",
    "        * The Denominator is (N - 1) because the length of the sequence is (N-1) after taking out the first element while the number of `a`s remain the same.\n",
    "\n",
    "P = (1 - M/N) * (1 - M/(N-1))\n",
    "\n",
    "If K = 3 then\n",
    "\n",
    "P = (1 - M/N) * (1 - M/(N-1)) * (1 - M/(N-2))\n",
    "and so one\n",
    "\n",
    "The problem statement of this challenge is to calculate the probability of at least one `a` selected. Then the result is:\n",
    "**`1 - p`**\n",
    "\n",
    "P/s: Using `reduce()` in this problem to compute their cumulative multiplication.\n"
   ]
  },
  {
   "cell_type": "markdown",
   "metadata": {},
   "source": [
    "END."
   ]
  }
 ],
 "metadata": {
  "kernelspec": {
   "display_name": "Python 3",
   "language": "python",
   "name": "python3"
  },
  "language_info": {
   "codemirror_mode": {
    "name": "ipython",
    "version": 3
   },
   "file_extension": ".py",
   "mimetype": "text/x-python",
   "name": "python",
   "nbconvert_exporter": "python",
   "pygments_lexer": "ipython3",
   "version": "3.8.5"
  }
 },
 "nbformat": 4,
 "nbformat_minor": 4
}
