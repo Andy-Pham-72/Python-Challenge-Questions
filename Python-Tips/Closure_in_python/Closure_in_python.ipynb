{
 "cells": [
  {
   "cell_type": "markdown",
   "metadata": {},
   "source": [
    "# Python Closures\n",
    "\n",
    "In order to understand Python Closure, we have to first understand what a **nested function** and **nonlocal variable** is.\n",
    "\n",
    "**a function** defined inside another function is called a nested function. **Nested Function** can access variables of the enclosing scope.\n",
    "\n",
    "**non-local variables** are read-only by default and we must declare them explicitly as non-local (using nonlocal keyword) in order to modify them.\n",
    "\n",
    "Please check below code for explanation:"
   ]
  },
  {
   "cell_type": "code",
   "execution_count": 1,
   "metadata": {},
   "outputs": [
    {
     "name": "stdout",
     "output_type": "stream",
     "text": [
      "True\n",
      "arg1 was 2\n",
      "arg2 was 17\n",
      "True\n"
     ]
    }
   ],
   "source": [
    "def return_a_func(arg1, arg2):\n",
    "    def new_func():\n",
    "        print('arg1 was {}'.format(arg1))\n",
    "        print('arg2 was {}'.format(arg2))\n",
    "    return new_func\n",
    "    \n",
    "my_func = return_a_func(2, 17)\n",
    "\n",
    "# Show that my_func()'s closure is not None\n",
    "print(my_func.__closure__[0] is not None)\n",
    "\n",
    "# Delete the return_a_func()\n",
    "del return_a_func\n",
    "\n",
    "# Check my_func\n",
    "my_func()\n",
    "\n",
    "# Get the values of the variables in the closure\n",
    "closure_values = [\n",
    "      my_func.__closure__[i].cell_contents for i in range(2)\n",
    "]\n",
    "print(closure_values == [2, 17])"
   ]
  },
  {
   "cell_type": "markdown",
   "metadata": {},
   "source": [
    "Even the function `return_a_func` was deleted, and the `new_func` was bound to `my_func`, the message was still remembered!.\n",
    "\n",
    "This technique by which some data gets attached to the code is call **Closure in Python**.\n",
    "\n",
    "This value in the enclosing scope is remembered even when the variable goes out of scope or the function itself is removed from the current namespace.\n",
    "\n",
    "**When do we have closures?**\n",
    "* We must have a nested function (function inside a function).\n",
    "* The nested function must refer to a value defined in the enclosing function.\n",
    "* The enclosing function must return the nested function."
   ]
  },
  {
   "cell_type": "markdown",
   "metadata": {},
   "source": [
    "END."
   ]
  }
 ],
 "metadata": {
  "kernelspec": {
   "display_name": "Python 3",
   "language": "python",
   "name": "python3"
  },
  "language_info": {
   "codemirror_mode": {
    "name": "ipython",
    "version": 3
   },
   "file_extension": ".py",
   "mimetype": "text/x-python",
   "name": "python",
   "nbconvert_exporter": "python",
   "pygments_lexer": "ipython3",
   "version": "3.8.5"
  }
 },
 "nbformat": 4,
 "nbformat_minor": 4
}
