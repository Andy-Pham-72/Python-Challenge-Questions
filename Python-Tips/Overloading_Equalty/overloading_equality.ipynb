{
 "cells": [
  {
   "cell_type": "markdown",
   "metadata": {},
   "source": [
    "# Overloading equality\n",
    "\n",
    "When comparing two objects of a custom class using `==`, Python by default compares just the object references, not the data contained in the objects. To override this behavior, the class can implement the special `__eq__()` method, which accepts two arguments -- the objects to be compared -- and returns `True` or `False`. This method will be implicitly called when two objects are compared.\n",
    "\n",
    "The `BankAccount` class has one attribute, `balance` and a `withdraw()` method. Two bank accounts with the same balance are not necessarily the same account, but a bank accounts usually has an account number, and two accounts with the same account number should be considered the same.\n",
    "\n",
    "**Instructions**\n",
    "\n",
    "* Modify the `__init__()` method to accept a new parameter - `number` - and initilaize a new `number` attribute.\n",
    "* Define an `__eq__()` method that returns `True` if the `number` attribute of two objects is equal.\n"
   ]
  },
  {
   "cell_type": "code",
   "execution_count": 2,
   "metadata": {},
   "outputs": [
    {
     "name": "stdout",
     "output_type": "stream",
     "text": [
      "compare acct1 vs acct2:  True\n",
      "compare acct1 vs acct3:  False\n"
     ]
    }
   ],
   "source": [
    "class BankAccount:\n",
    "   # MODIFY to initialize a number attribute\n",
    "    def __init__(self, number=0, balance=0):\n",
    "        self.balance = balance \n",
    "        self.number = number\n",
    "    def withdraw(self, amount):\n",
    "        self.balance -= amount \n",
    "    \n",
    "    # Define __eq__ that returns True if the number attributes are equal \n",
    "    def __eq__(self, other):\n",
    "        return self.number == other.number   \n",
    "\n",
    "# Create accounts and compare them       \n",
    "acct1 = BankAccount(123, 1000)\n",
    "acct2 = BankAccount(123, 1000)\n",
    "acct3 = BankAccount(456, 1000)\n",
    "print(\"compare acct1 vs acct2: \",acct1 == acct2)\n",
    "print(\"compare acct1 vs acct3: \",acct1 == acct3)\n",
    "    "
   ]
  },
  {
   "cell_type": "markdown",
   "metadata": {},
   "source": [
    "END."
   ]
  }
 ],
 "metadata": {
  "kernelspec": {
   "display_name": "Python 3",
   "language": "python",
   "name": "python3"
  },
  "language_info": {
   "codemirror_mode": {
    "name": "ipython",
    "version": 3
   },
   "file_extension": ".py",
   "mimetype": "text/x-python",
   "name": "python",
   "nbconvert_exporter": "python",
   "pygments_lexer": "ipython3",
   "version": "3.8.5"
  }
 },
 "nbformat": 4,
 "nbformat_minor": 4
}
