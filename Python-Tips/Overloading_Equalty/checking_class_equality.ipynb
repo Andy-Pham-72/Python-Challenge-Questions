{
 "cells": [
  {
   "cell_type": "markdown",
   "metadata": {},
   "source": [
    "# Checking class equality\n",
    "\n",
    "In the previous exercise, you defined a `BankAccount` class with a `number` attribute that was used for comparison. But if you were to compare a `BankAccount` object to an object of another class that also has a `number` attribute, you could end up with unexpected results.\n",
    "\n",
    "**Instructions**\n",
    "\n",
    "Both the `Phone` and the `BankAccount` classes have been defined.\n",
    "\n",
    "    * Modify the definition of `BankAccount` to only return `True` if the `number` attribute is the same and the `type()` of both objects passed to it is the same\n",
    "\n",
    "We can see 2 classes below."
   ]
  },
  {
   "cell_type": "code",
   "execution_count": 2,
   "metadata": {},
   "outputs": [
    {
     "name": "stdout",
     "output_type": "stream",
     "text": [
      "False\n"
     ]
    }
   ],
   "source": [
    "class Phone:\n",
    "    def __init__(self, number):\n",
    "        self.number = number\n",
    "\n",
    "    def __eq__(self, other):\n",
    "        return self.number == \\\n",
    "          other.number\n",
    "\n",
    "\n",
    "class BankAccount:\n",
    "    def __init__(self, number, balance=0):\n",
    "        self.number, self.balance = number, balance\n",
    "      \n",
    "    def withdraw(self, amount):\n",
    "        self.balance -= amount \n",
    "\n",
    "    # MODIFY to add a check for the type()\n",
    "    def __eq__(self, other):\n",
    "        return (self.number == other.number) and (type(self) == type(other))    \n",
    "\n",
    "acct = BankAccount(873555333)      \n",
    "pn = Phone(873555333)\n",
    "print(acct == pn)"
   ]
  },
  {
   "cell_type": "markdown",
   "metadata": {},
   "source": [
    "END."
   ]
  }
 ],
 "metadata": {
  "kernelspec": {
   "display_name": "Python 3",
   "language": "python",
   "name": "python3"
  },
  "language_info": {
   "codemirror_mode": {
    "name": "ipython",
    "version": 3
   },
   "file_extension": ".py",
   "mimetype": "text/x-python",
   "name": "python",
   "nbconvert_exporter": "python",
   "pygments_lexer": "ipython3",
   "version": "3.8.5"
  }
 },
 "nbformat": 4,
 "nbformat_minor": 4
}
