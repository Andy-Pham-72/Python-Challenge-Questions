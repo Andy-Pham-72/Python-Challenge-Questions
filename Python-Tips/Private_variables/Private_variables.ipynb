{
 "cells": [
  {
   "cell_type": "markdown",
   "metadata": {},
   "source": [
    "# Private Variables\n",
    "\n",
    "According to [Python's official documentation](https://docs.python.org/3/tutorial/classes.html), \"Private\" instance variables that cannot be accessed except from inside an object don't exist in Python. However, there is a convention that is followed by most Python code: a name prefixed with an underscore (e.g. `_spam`) should be treated as **a non-public part of the API** (whether it is a function, a method or a data member). It should be considered an implementation detail and subject to change without notice.\n",
    "\n",
    "Since there is a valid use-case for class-private members (namely to **avoid name clashes of names** with names defined by `subclasses`), there is limited support for such a mechanism, called *name mangling*.\n",
    "- Any identifier of the form `__spam` (at lease two leading underscores, at most one trailing underscore) is textually replaced with `_classname__spam`, where `classname` is the current class name with leading underscore(s) stripped. This mangling is done without regard to the syntactic position of the identifier, as long as it occurs within the definiton of a class.\n",
    "\n",
    "**Name mangling** is helpful for letting subclasses override methods without breaking intraclass method calls. For example:"
   ]
  },
  {
   "cell_type": "code",
   "execution_count": 1,
   "metadata": {},
   "outputs": [],
   "source": [
    "class Mapping:\n",
    "    def __init__(self, iterable):\n",
    "        self.items_list = []\n",
    "        self.__update(iterable)\n",
    "\n",
    "    def update(self, iterable):\n",
    "        for item in iterable:\n",
    "            self.items_list.append(item)\n",
    "\n",
    "    __update = update   # private copy of original update() method\n",
    "\n",
    "class MappingSubclass(Mapping):\n",
    "\n",
    "    def update(self, keys, values):\n",
    "        # provides new signature for update()\n",
    "        # but does not break __init__()\n",
    "        for item in zip(keys, values):\n",
    "            self.items_list.append(item)"
   ]
  },
  {
   "cell_type": "markdown",
   "metadata": {},
   "source": [
    "The above example would work even if `MappingSubclass` were ot introduce a `__update` identifier since it is replaced wht `_Mapping``update` in the `Mapping` class an `_MappingSubclass__update` in the `MappingSubclass` class respectively.\n",
    "\n",
    "**Note**: mangling rules are designed mostly to avoid accidents; it still is possible to access or modify a varable that is considered private. This can even be useful in special circumstances, such as in the debugger."
   ]
  },
  {
   "cell_type": "code",
   "execution_count": 2,
   "metadata": {},
   "outputs": [
    {
     "name": "stdout",
     "output_type": "stream",
     "text": [
      "['game', 'boy', ('n', 'k'), ('a', 'e'), ('m', 'y')]\n"
     ]
    }
   ],
   "source": [
    "# Assign to a varible\n",
    "m = MappingSubclass(['game','boy'])\n",
    "\n",
    "# Update 2 values\n",
    "m.update('name', 'key')\n",
    "\n",
    "# Check the added value\n",
    "print(m.items_list)"
   ]
  },
  {
   "cell_type": "code",
   "execution_count": 3,
   "metadata": {},
   "outputs": [
    {
     "name": "stdout",
     "output_type": "stream",
     "text": [
      "['game', 'boy', ('n', 'k'), ('a', 'e'), ('m', 'y'), 'h', 'o', 't']\n"
     ]
    }
   ],
   "source": [
    "# Access the private variable in order to update value\n",
    "m._Mapping__update('hot')\n",
    "\n",
    "# Check the added value\n",
    "print(m.items_list)"
   ]
  },
  {
   "cell_type": "markdown",
   "metadata": {},
   "source": [
    "END."
   ]
  }
 ],
 "metadata": {
  "kernelspec": {
   "display_name": "Python 3",
   "language": "python",
   "name": "python3"
  },
  "language_info": {
   "codemirror_mode": {
    "name": "ipython",
    "version": 3
   },
   "file_extension": ".py",
   "mimetype": "text/x-python",
   "name": "python",
   "nbconvert_exporter": "python",
   "pygments_lexer": "ipython3",
   "version": "3.8.5"
  }
 },
 "nbformat": 4,
 "nbformat_minor": 4
}
