{
 "cells": [
  {
   "cell_type": "markdown",
   "metadata": {},
   "source": [
    "# DRY (Don't Repeat Yourself) and \"Do One Thing\"\n",
    "\n",
    "When we write some scripts we usually have to copy and paste repeatedly a few times during the exploratory process. Therefore, we can accidentally make some typo or mistakes along the process.\n",
    "\n",
    "Please see some examples below to illustrate some possible situations could arise:\n"
   ]
  },
  {
   "cell_type": "code",
   "execution_count": null,
   "metadata": {},
   "outputs": [],
   "source": [
    "# Example 1\n",
    "\n",
    "train = pd.read_csv('train.csv')\n",
    "train_y = train['labels'].values  ### We keep repeating the exact code ###\n",
    "train_X = train[col for col in train.columns if col != 'labels'].values\n",
    "train_pca = PCA(n_components = 2).fit_transform(train_X)\n",
    "plt.scatter(train_pca[:,0], train_pca[:,1])"
   ]
  },
  {
   "cell_type": "code",
   "execution_count": null,
   "metadata": {},
   "outputs": [],
   "source": [
    "# Example 2\n",
    "\n",
    "val = pd.read_csv('validation.csv')\n",
    "val_y = val['labels'].values ### We keep repeating the exact code ###\n",
    "val_X = val[col for col in train.columns if col != 'labels'].values\n",
    "val_pca = PCA(n_components = 2).fit_transform(val_X)\n",
    "plt.scatter(val_pca[:,0], val_pca[:,1])"
   ]
  },
  {
   "cell_type": "code",
   "execution_count": null,
   "metadata": {},
   "outputs": [],
   "source": [
    "# Example 3\n",
    "\n",
    "test = pd.read_csv('test.csv')\n",
    "test_y = test['labels'].values  ### We keep repeating the exact code ###\n",
    "test_X = test[col for col in train.columns if col != 'labels'].values\n",
    "test_pca = PCA(n_components = 2).fit_transform(train)  ### Typo issue arises! ###\n",
    "plt.scatter(test_pca[:,0], test_pca[:,1])"
   ]
  },
  {
   "cell_type": "markdown",
   "metadata": {},
   "source": [
    "Throughout 3 examples above, we could see the chance of making error is very high since we keep repeating similar code for different output. Therefore, it's a good sign to create a function to automate the repeated code as below:"
   ]
  },
  {
   "cell_type": "code",
   "execution_count": null,
   "metadata": {},
   "outputs": [],
   "source": [
    "def load_and_plot(path):\n",
    "    \"\"\" Load a data set and plot the first two principal components.\n",
    "    \n",
    "    Agrs:\n",
    "        path (str): The location of a CSV file.\n",
    "        \n",
    "    Returns:\n",
    "        tuple of ndarray: (features, labels)\n",
    "    \n",
    "    \"\"\"\n",
    "    \n",
    "    data = pd. read_csv(path)\n",
    "    y = data['label'].values\n",
    "    X = data[col for col in train.columns if col != 'label'].values\n",
    "    pca = PCA(n_components=2).fit_transform(X)\n",
    "    plt.scatter(pca[:,0], pca[:,1])\n",
    "    return X, y"
   ]
  },
  {
   "cell_type": "code",
   "execution_count": null,
   "metadata": {},
   "outputs": [],
   "source": [
    "train_X, train_y = load_and_plot('train.csv')\n",
    "val_X, val_y = load_and_plot('train.csv')\n",
    "test_X, test_y = load_and_plot('train.csv')"
   ]
  },
  {
   "cell_type": "markdown",
   "metadata": {},
   "source": [
    "# NOTE: \n",
    "- This function above seems to be good! But it also violates a principle that every function should have **a single responsibility**!\n",
    "\n",
    "- Let's split the `load_and_plot()` function up into 2 functions:"
   ]
  },
  {
   "cell_type": "code",
   "execution_count": null,
   "metadata": {},
   "outputs": [],
   "source": [
    "def load_data(path):\n",
    "    \"\"\" Load a data set and plot the first two principal components.\n",
    "    \n",
    "    Agrs:\n",
    "        path (str): The location of a CSV file.\n",
    "        \n",
    "    Returns:\n",
    "        tuple of ndarray: (features, labels)\n",
    "    \n",
    "    \"\"\"\n",
    "    data = pd.read_csv(path)\n",
    "    y = data['label'].values\n",
    "    X = data[col for col in train.columns if col != 'label'].values\n",
    "    return X, y"
   ]
  },
  {
   "cell_type": "code",
   "execution_count": null,
   "metadata": {},
   "outputs": [],
   "source": [
    "def plot_data(X):\n",
    "    \"\"\" Plot the first two principal components of a matrix\n",
    "    \n",
    "    Args:\n",
    "        X (numpy.ndarray): The data to plot.\n",
    "    \"\"\"\n",
    "    pca = PCA(n_components=2).fit_transform(X)\n",
    "    plt.scatter(pca[:,0], pca[:,1])"
   ]
  },
  {
   "cell_type": "markdown",
   "metadata": {},
   "source": [
    "After splitting our code into 2 functions, our code has become more flexible. For example, if you just want to load the data and not to plot it, we can just use the `load_data()` function.\n",
    "\n",
    "**Advantages of doing one thing:**\n",
    "The code beomes:\n",
    "- More flexible\n",
    "- More easily understood\n"
   ]
  }
 ],
 "metadata": {
  "kernelspec": {
   "display_name": "Python 3",
   "language": "python",
   "name": "python3"
  },
  "language_info": {
   "codemirror_mode": {
    "name": "ipython",
    "version": 3
   },
   "file_extension": ".py",
   "mimetype": "text/x-python",
   "name": "python",
   "nbconvert_exporter": "python",
   "pygments_lexer": "ipython3",
   "version": "3.8.5"
  }
 },
 "nbformat": 4,
 "nbformat_minor": 4
}
