{
 "cells": [
  {
   "cell_type": "markdown",
   "metadata": {},
   "source": [
    "# Functional Programming\n",
    "\n",
    "Functional programming is a programming technique that avoids side effect in your program by performing computation mainly through evalutation of functions and it'll rely heavily on immutable data structures.\n",
    "\n",
    "In other words, functional programming (just like Object Oriented Programming) has potential benefit that can reduce the likelihood of having bugs and make them more maintainable."
   ]
  },
  {
   "cell_type": "code",
   "execution_count": 1,
   "metadata": {},
   "outputs": [
    {
     "data": {
      "text/plain": [
       "[{'name': 'Ada Lovelace', 'field': 'math', 'born': 1815, 'nobel': False},\n",
       " {'name': 'Emmy Noether', 'field': 'math', 'born': 1882, 'nobel': False}]"
      ]
     },
     "execution_count": 1,
     "metadata": {},
     "output_type": "execute_result"
    }
   ],
   "source": [
    "scientists = [\n",
    "    {'name': \"Ada Lovelace\", 'field': 'math', 'born': 1815, 'nobel' : False},\n",
    "    {'name': \"Emmy Noether\", 'field': 'math', 'born': 1882, 'nobel' : False}\n",
    "]\n",
    "\n",
    "scientists"
   ]
  },
  {
   "cell_type": "code",
   "execution_count": 2,
   "metadata": {},
   "outputs": [],
   "source": [
    "# We can easily change the value in the dictionary easily\n",
    "scientists[0]['name'] = 'Ed Lovelace'"
   ]
  },
  {
   "cell_type": "code",
   "execution_count": 3,
   "metadata": {},
   "outputs": [
    {
     "data": {
      "text/plain": [
       "[{'name': 'Ed Lovelace', 'field': 'math', 'born': 1815, 'nobel': False},\n",
       " {'name': 'Emmy Noether', 'field': 'math', 'born': 1882, 'nobel': False}]"
      ]
     },
     "execution_count": 3,
     "metadata": {},
     "output_type": "execute_result"
    }
   ],
   "source": [
    "scientists"
   ]
  },
  {
   "cell_type": "markdown",
   "metadata": {},
   "source": [
    "There is the posibility that we could make typo during the input new data process. For example, we can type `'nema'` instead of `'name'` and other fields will be the same, then the list will have different structure with the `'nema'`.\n",
    "\n",
    "There is an alternative that can fix the issue as below:"
   ]
  },
  {
   "cell_type": "code",
   "execution_count": 6,
   "metadata": {},
   "outputs": [
    {
     "data": {
      "text/plain": [
       "__main__.Scientist"
      ]
     },
     "execution_count": 6,
     "metadata": {},
     "output_type": "execute_result"
    }
   ],
   "source": [
    "import collections\n",
    "\n",
    "Scientist = collections.namedtuple('Scientist', [\n",
    "        'name',\n",
    "        'field',\n",
    "        'born',\n",
    "        'nobel'\n",
    "])\n",
    "\n",
    "Scientist"
   ]
  },
  {
   "cell_type": "code",
   "execution_count": 7,
   "metadata": {},
   "outputs": [
    {
     "data": {
      "text/plain": [
       "Scientist(name='Ada Lovelace', field='math', born=1815, nobel=False)"
      ]
     },
     "execution_count": 7,
     "metadata": {},
     "output_type": "execute_result"
    }
   ],
   "source": [
    "Scientist(name = 'Ada Lovelace', field='math', born=1815, nobel= False)"
   ]
  },
  {
   "cell_type": "code",
   "execution_count": 8,
   "metadata": {},
   "outputs": [
    {
     "data": {
      "text/plain": [
       "'Ada Lovelace'"
      ]
     },
     "execution_count": 8,
     "metadata": {},
     "output_type": "execute_result"
    }
   ],
   "source": [
    "ada = Scientist(name = 'Ada Lovelace', field='math', born=1815, nobel= False)\n",
    "ada.name"
   ]
  },
  {
   "cell_type": "code",
   "execution_count": 9,
   "metadata": {},
   "outputs": [
    {
     "ename": "AttributeError",
     "evalue": "can't set attribute",
     "output_type": "error",
     "traceback": [
      "\u001b[0;31m---------------------------------------------------------------------------\u001b[0m",
      "\u001b[0;31mAttributeError\u001b[0m                            Traceback (most recent call last)",
      "\u001b[0;32m<ipython-input-9-a037f652916b>\u001b[0m in \u001b[0;36m<module>\u001b[0;34m\u001b[0m\n\u001b[1;32m      1\u001b[0m \u001b[0;31m# We can't change the named tuple element because it's immutable\u001b[0m\u001b[0;34m\u001b[0m\u001b[0;34m\u001b[0m\u001b[0;34m\u001b[0m\u001b[0m\n\u001b[0;32m----> 2\u001b[0;31m \u001b[0mada\u001b[0m\u001b[0;34m.\u001b[0m\u001b[0mname\u001b[0m \u001b[0;34m=\u001b[0m \u001b[0;34m'Ed Lovelace'\u001b[0m\u001b[0;34m\u001b[0m\u001b[0;34m\u001b[0m\u001b[0m\n\u001b[0m",
      "\u001b[0;31mAttributeError\u001b[0m: can't set attribute"
     ]
    }
   ],
   "source": [
    "# We can't change the named tuple element because it's immutable\n",
    "ada.name = 'Ed Lovelace'"
   ]
  },
  {
   "cell_type": "markdown",
   "metadata": {},
   "source": [
    "Let's make a list with the `Scientist` variable that we just created."
   ]
  },
  {
   "cell_type": "code",
   "execution_count": 23,
   "metadata": {},
   "outputs": [
    {
     "data": {
      "text/plain": [
       "[Scientist(name='Ada Lovelace', field='math', born=1815, nobel=False),\n",
       " Scientist(name='Emmy Noether', field='math', born=1882, nobel=False),\n",
       " Scientist(name='Marie Curie', field='physics', born=1867, nobel=True),\n",
       " Scientist(name='Ada Yonath', field='chemistry', born=1939, nobel=True),\n",
       " Scientist(name='Vera Rubin', field='astronomy', born=1928, nobel=False),\n",
       " Scientist(name='Sally Ride', field='physics', born=1951, nobel=False)]"
      ]
     },
     "execution_count": 23,
     "metadata": {},
     "output_type": "execute_result"
    }
   ],
   "source": [
    "scientists = [\n",
    "    Scientist(name= \"Ada Lovelace\", field= 'math', born= 1815, nobel = False),\n",
    "    Scientist(name= \"Emmy Noether\", field= 'math', born= 1882, nobel = False),\n",
    "    Scientist(name= \"Marie Curie\", field= 'physics', born= 1867, nobel = True),\n",
    "    Scientist(name= \"Ada Yonath\", field= 'chemistry', born= 1939, nobel = True),\n",
    "    Scientist(name= \"Vera Rubin\", field= 'astronomy', born= 1928, nobel = False),\n",
    "    Scientist(name= \"Sally Ride\", field= 'physics', born= 1951, nobel = False)\n",
    "]\n",
    "\n",
    "scientists"
   ]
  },
  {
   "cell_type": "code",
   "execution_count": 13,
   "metadata": {},
   "outputs": [
    {
     "name": "stdout",
     "output_type": "stream",
     "text": [
      "[Scientist(name='Ada Lovelace', field='math', born=1815, nobel=False),\n",
      " Scientist(name='Emmy Noether', field='math', born=1882, nobel=False)]\n"
     ]
    }
   ],
   "source": [
    "# Make it looks nicer\n",
    "\n",
    "from pprint import pprint\n",
    "\n",
    "pprint(scientists)"
   ]
  },
  {
   "cell_type": "code",
   "execution_count": 14,
   "metadata": {},
   "outputs": [
    {
     "ename": "AttributeError",
     "evalue": "can't set attribute",
     "output_type": "error",
     "traceback": [
      "\u001b[0;31m---------------------------------------------------------------------------\u001b[0m",
      "\u001b[0;31mAttributeError\u001b[0m                            Traceback (most recent call last)",
      "\u001b[0;32m<ipython-input-14-3dfaa97c4227>\u001b[0m in \u001b[0;36m<module>\u001b[0;34m\u001b[0m\n\u001b[1;32m      1\u001b[0m \u001b[0;31m# We can't change the value in scientists\u001b[0m\u001b[0;34m\u001b[0m\u001b[0;34m\u001b[0m\u001b[0;34m\u001b[0m\u001b[0m\n\u001b[0;32m----> 2\u001b[0;31m \u001b[0mscientists\u001b[0m\u001b[0;34m[\u001b[0m\u001b[0;36m0\u001b[0m\u001b[0;34m]\u001b[0m\u001b[0;34m.\u001b[0m\u001b[0mname\u001b[0m \u001b[0;34m=\u001b[0m \u001b[0;34m'Ed Lovelace'\u001b[0m\u001b[0;34m\u001b[0m\u001b[0;34m\u001b[0m\u001b[0m\n\u001b[0m",
      "\u001b[0;31mAttributeError\u001b[0m: can't set attribute"
     ]
    }
   ],
   "source": [
    "# We can't change the value in scientists\n",
    "scientists[0].name = 'Ed Lovelace'"
   ]
  },
  {
   "cell_type": "code",
   "execution_count": 15,
   "metadata": {},
   "outputs": [
    {
     "data": {
      "text/plain": [
       "[Scientist(name='Emmy Noether', field='math', born=1882, nobel=False)]"
      ]
     },
     "execution_count": 15,
     "metadata": {},
     "output_type": "execute_result"
    }
   ],
   "source": [
    "# We can delete the value by using 'del'\n",
    "del scientists[0]\n",
    "\n",
    "scientists"
   ]
  },
  {
   "cell_type": "markdown",
   "metadata": {},
   "source": [
    "From the example, we had created immutable items and then stored them all in a list which is a mutable data structure in Python. Therefore, the best way to handle it is instead of making a list, we create a tuple because tuple is an immutable data structure since you can't change item with it."
   ]
  },
  {
   "cell_type": "markdown",
   "metadata": {},
   "source": [
    "# Filter() function.\n",
    "\n",
    "Filter() function returns an iterator yielding those items of iterable for which function(item) is true. If function is None, return the items that are true.\n"
   ]
  },
  {
   "cell_type": "code",
   "execution_count": 18,
   "metadata": {},
   "outputs": [
    {
     "data": {
      "text/plain": [
       "Scientist(name='Marie Curie', field='physics', born=1867, nobel=True)"
      ]
     },
     "execution_count": 18,
     "metadata": {},
     "output_type": "execute_result"
    }
   ],
   "source": [
    "fs = filter(lambda x: x.nobel is True, scientists)\n",
    "next(fs)"
   ]
  },
  {
   "cell_type": "code",
   "execution_count": 19,
   "metadata": {},
   "outputs": [
    {
     "data": {
      "text/plain": [
       "Scientist(name='Ada Yonath', field='chemistry', born=1939, nobel=True)"
      ]
     },
     "execution_count": 19,
     "metadata": {},
     "output_type": "execute_result"
    }
   ],
   "source": [
    "next(fs)"
   ]
  },
  {
   "cell_type": "code",
   "execution_count": 20,
   "metadata": {},
   "outputs": [
    {
     "ename": "StopIteration",
     "evalue": "",
     "output_type": "error",
     "traceback": [
      "\u001b[0;31m---------------------------------------------------------------------------\u001b[0m",
      "\u001b[0;31mStopIteration\u001b[0m                             Traceback (most recent call last)",
      "\u001b[0;32m<ipython-input-20-cc337a681289>\u001b[0m in \u001b[0;36m<module>\u001b[0;34m\u001b[0m\n\u001b[0;32m----> 1\u001b[0;31m \u001b[0mnext\u001b[0m\u001b[0;34m(\u001b[0m\u001b[0mfs\u001b[0m\u001b[0;34m)\u001b[0m\u001b[0;34m\u001b[0m\u001b[0;34m\u001b[0m\u001b[0m\n\u001b[0m",
      "\u001b[0;31mStopIteration\u001b[0m: "
     ]
    }
   ],
   "source": [
    "next(fs)"
   ]
  },
  {
   "cell_type": "code",
   "execution_count": 22,
   "metadata": {},
   "outputs": [
    {
     "name": "stdout",
     "output_type": "stream",
     "text": [
      "(Scientist(name='Marie Curie', field='physics', born=1867, nobel=True),\n",
      " Scientist(name='Ada Yonath', field='chemistry', born=1939, nobel=True))\n"
     ]
    }
   ],
   "source": [
    "# wraps the filter into tuple and the print it out with pprint()\n",
    "fs = tuple(filter(lambda x: x.nobel is True, scientists))\n",
    "\n",
    "pprint(fs)"
   ]
  },
  {
   "cell_type": "code",
   "execution_count": 24,
   "metadata": {},
   "outputs": [
    {
     "name": "stdout",
     "output_type": "stream",
     "text": [
      "(Scientist(name='Marie Curie', field='physics', born=1867, nobel=True),)\n"
     ]
    }
   ],
   "source": [
    "# check another filter\n",
    "pprint(tuple(filter(lambda x: x.field == 'physics' and x.nobel, scientists)))"
   ]
  },
  {
   "cell_type": "code",
   "execution_count": 25,
   "metadata": {},
   "outputs": [
    {
     "name": "stdout",
     "output_type": "stream",
     "text": [
      "Scientist(name='Marie Curie', field='physics', born=1867, nobel=True)\n",
      "Scientist(name='Ada Yonath', field='chemistry', born=1939, nobel=True)\n"
     ]
    }
   ],
   "source": [
    "# Create a for loop to find the scientists who won Nobel\n",
    "\n",
    "for x in scientists:\n",
    "    if x.nobel is True:\n",
    "        print(x)"
   ]
  },
  {
   "cell_type": "code",
   "execution_count": 26,
   "metadata": {},
   "outputs": [
    {
     "name": "stdout",
     "output_type": "stream",
     "text": [
      "(Scientist(name='Marie Curie', field='physics', born=1867, nobel=True),\n",
      " Scientist(name='Ada Yonath', field='chemistry', born=1939, nobel=True))\n"
     ]
    }
   ],
   "source": [
    "# Create a function that only filter scientists with Nobel\n",
    "def nobel_filter(x):\n",
    "    return x.nobel is True\n",
    "\n",
    "pprint(tuple(filter(nobel_filter, scientists)))"
   ]
  },
  {
   "cell_type": "code",
   "execution_count": 27,
   "metadata": {},
   "outputs": [
    {
     "data": {
      "text/plain": [
       "[Scientist(name='Marie Curie', field='physics', born=1867, nobel=True),\n",
       " Scientist(name='Ada Yonath', field='chemistry', born=1939, nobel=True)]"
      ]
     },
     "execution_count": 27,
     "metadata": {},
     "output_type": "execute_result"
    }
   ],
   "source": [
    "# Use a list comprehension to filter scientists who won Nobel\n",
    "[x for x in scientists if x.nobel is True]"
   ]
  },
  {
   "cell_type": "code",
   "execution_count": 29,
   "metadata": {},
   "outputs": [
    {
     "name": "stdout",
     "output_type": "stream",
     "text": [
      "(Scientist(name='Marie Curie', field='physics', born=1867, nobel=True),\n",
      " Scientist(name='Ada Yonath', field='chemistry', born=1939, nobel=True))\n"
     ]
    }
   ],
   "source": [
    "# use generator expression instead of list comprehension\n",
    "pprint(tuple(x for x in scientists if x.nobel is True))"
   ]
  },
  {
   "cell_type": "markdown",
   "metadata": {},
   "source": [
    "# Map() function\n",
    "\n",
    "Like filter() function, Map() function is another built-in function in Python that makes an iterator computing the function using arguments from each of the iterables. Stops when the shortest iterable is exhausted."
   ]
  },
  {
   "cell_type": "code",
   "execution_count": 31,
   "metadata": {},
   "outputs": [
    {
     "name": "stdout",
     "output_type": "stream",
     "text": [
      "({'age': 202, 'name': 'Ada Lovelace'},\n",
      " {'age': 135, 'name': 'Emmy Noether'},\n",
      " {'age': 150, 'name': 'Marie Curie'},\n",
      " {'age': 78, 'name': 'Ada Yonath'},\n",
      " {'age': 89, 'name': 'Vera Rubin'},\n",
      " {'age': 66, 'name': 'Sally Ride'})\n"
     ]
    }
   ],
   "source": [
    "names_and_ages = tuple(map(\n",
    "                    lambda x: {'name': x.name, 'age': 2017 - x.born},\n",
    "                    scientists\n",
    "                    ))\n",
    "\n",
    "pprint(names_and_ages)"
   ]
  },
  {
   "cell_type": "markdown",
   "metadata": {},
   "source": [
    "As we can see the map() function mapped the function into each items of the list. Now all the items in the variable `names_and_ages` are mutable items."
   ]
  },
  {
   "cell_type": "code",
   "execution_count": 32,
   "metadata": {},
   "outputs": [
    {
     "data": {
      "text/plain": [
       "[{'name': 'Ada Lovelace', 'age': 202},\n",
       " {'name': 'Emmy Noether', 'age': 135},\n",
       " {'name': 'Marie Curie', 'age': 150},\n",
       " {'name': 'Ada Yonath', 'age': 78},\n",
       " {'name': 'Vera Rubin', 'age': 89},\n",
       " {'name': 'Sally Ride', 'age': 66}]"
      ]
     },
     "execution_count": 32,
     "metadata": {},
     "output_type": "execute_result"
    }
   ],
   "source": [
    "# Use list comprehension \n",
    "[{'name': x.name, 'age': 2017 - x.born}\n",
    "for x in scientists]"
   ]
  },
  {
   "cell_type": "code",
   "execution_count": 33,
   "metadata": {},
   "outputs": [
    {
     "data": {
      "text/plain": [
       "({'name': 'Ada Lovelace', 'age': 202},\n",
       " {'name': 'Emmy Noether', 'age': 135},\n",
       " {'name': 'Marie Curie', 'age': 150},\n",
       " {'name': 'Ada Yonath', 'age': 78},\n",
       " {'name': 'Vera Rubin', 'age': 89},\n",
       " {'name': 'Sally Ride', 'age': 66})"
      ]
     },
     "execution_count": 33,
     "metadata": {},
     "output_type": "execute_result"
    }
   ],
   "source": [
    "# Use generator expression \n",
    "tuple({'name': x.name, 'age': 2017 - x.born}\n",
    "     for x in scientists)"
   ]
  },
  {
   "cell_type": "markdown",
   "metadata": {},
   "source": [
    "# Reduce() function\n",
    "\n",
    "reduce() function has to be imported from `functools` module. reduce() function can apply a function of two arguments cumulatively to the items of a sequence, from left to right, so as to reduce the sequence to a single value.\n",
    "\n",
    "For example, reduce(lambda x,y: x+y, [1, 2, 3, 4, 5]) calculates ((((1+2)+3)+4)+5). If initial is present, it is placed before the items of the sequence in the calculation, and serves as a default when the sequence is empty.\n"
   ]
  },
  {
   "cell_type": "code",
   "execution_count": 35,
   "metadata": {},
   "outputs": [
    {
     "data": {
      "text/plain": [
       "720"
      ]
     },
     "execution_count": 35,
     "metadata": {},
     "output_type": "execute_result"
    }
   ],
   "source": [
    "from functools import reduce\n",
    "\n",
    "names_and_ages = tuple(map(\n",
    "                    lambda x: {'name': x.name, 'age': 2017 - x.born},\n",
    "                    scientists\n",
    "                    ))\n",
    "\n",
    "total_age = reduce(\n",
    "            lambda acc, val: acc+ val['age'],  # start adding 'age' value \n",
    "            names_and_ages,    # use the item from `names_and_ages` variable\n",
    "            0                  # set the accumulated value as 0\n",
    ")\n",
    "\n",
    "total_age"
   ]
  },
  {
   "cell_type": "code",
   "execution_count": 37,
   "metadata": {},
   "outputs": [
    {
     "name": "stdout",
     "output_type": "stream",
     "text": [
      "{'astronomy': ['Vera Rubin'],\n",
      " 'chemistry': ['Ada Yonath'],\n",
      " 'math': ['Ada Lovelace', 'Emmy Noether'],\n",
      " 'physics': ['Marie Curie', 'Sally Ride']}\n"
     ]
    }
   ],
   "source": [
    "# Create a function reducer\n",
    "def reducer(acc, val):\n",
    "    acc[val.field].append(val.name)\n",
    "    return acc\n",
    "\n",
    "# Use reduce() and apply reducer() into it\n",
    "scientists_by_field = reduce(\n",
    "                reducer,\n",
    "                scientists,\n",
    "                {'math': [], 'physics': [], 'chemistry': [], 'astronomy': []}\n",
    ")\n",
    "\n",
    "pprint(scientists_by_field)"
   ]
  },
  {
   "cell_type": "code",
   "execution_count": 41,
   "metadata": {},
   "outputs": [
    {
     "name": "stdout",
     "output_type": "stream",
     "text": [
      "{'astronomy': [Scientist(name='Vera Rubin', field='astronomy', born=1928, nobel=False)],\n",
      " 'chemistry': [Scientist(name='Ada Yonath', field='chemistry', born=1939, nobel=True)],\n",
      " 'math': [Scientist(name='Ada Lovelace', field='math', born=1815, nobel=False),\n",
      "          Scientist(name='Emmy Noether', field='math', born=1882, nobel=False)],\n",
      " 'physics': [Scientist(name='Sally Ride', field='physics', born=1951, nobel=False)]}\n"
     ]
    }
   ],
   "source": [
    "# Use itertools\n",
    "\n",
    "import itertools\n",
    "\n",
    "scientists_by_field1 = {\n",
    "        item[0] : list(item[1])\n",
    "        for item in itertools.groupby(scientists, lambda x: x.field)\n",
    "}\n",
    "\n",
    "pprint(scientists_by_field1)"
   ]
  },
  {
   "cell_type": "code",
   "execution_count": 42,
   "metadata": {},
   "outputs": [
    {
     "name": "stdout",
     "output_type": "stream",
     "text": [
      "{'astronomy': ['Vera Rubin'],\n",
      " 'chemistry': ['Ada Yonath'],\n",
      " 'math': ['Ada Lovelace', 'Emmy Noether'],\n",
      " 'physics': ['Marie Curie', 'Sally Ride']}\n"
     ]
    }
   ],
   "source": [
    "# Use functools\n",
    "\n",
    "import functools\n",
    "\n",
    "scientists_by_field2 = functools.reduce(\n",
    "            lambda acc, val: {**acc, **{val.field: acc[val.field] + [val.name]}},  # using dictionary merging syntax\n",
    "            scientists,\n",
    "            {'math': [], 'physics': [], 'chemistry': [], 'astronomy': []}\n",
    ")\n",
    "\n",
    "pprint(scientists_by_field2)"
   ]
  },
  {
   "cell_type": "markdown",
   "metadata": {},
   "source": [
    "END."
   ]
  }
 ],
 "metadata": {
  "kernelspec": {
   "display_name": "Python 3",
   "language": "python",
   "name": "python3"
  },
  "language_info": {
   "codemirror_mode": {
    "name": "ipython",
    "version": 3
   },
   "file_extension": ".py",
   "mimetype": "text/x-python",
   "name": "python",
   "nbconvert_exporter": "python",
   "pygments_lexer": "ipython3",
   "version": "3.8.5"
  }
 },
 "nbformat": 4,
 "nbformat_minor": 4
}
