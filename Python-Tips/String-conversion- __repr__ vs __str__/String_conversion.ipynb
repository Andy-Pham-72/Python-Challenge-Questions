{
 "cells": [
  {
   "cell_type": "markdown",
   "metadata": {},
   "source": [
    "# **str()** and **repr()** are both used to get a string representation of object.\n",
    "\n",
    "### Goal\n",
    "- `str()` is used for creating output for end user - **GOAL** is to be readable.\n",
    "- `repr()` is used for debugging and development - **GOAL** is to be unambiguous.\n",
    "\n",
    "for example:\n",
    "- if we suspect a float has a small rounding error => **repr** will show us while **str** may not.\n"
   ]
  },
  {
   "cell_type": "code",
   "execution_count": 19,
   "metadata": {},
   "outputs": [
    {
     "name": "stdout",
     "output_type": "stream",
     "text": [
      "Hello, Geeks.\n",
      "0.18181818181818182\n",
      "===========================\n",
      "'Hello, Geeks.'\n",
      "0.18181818181818182\n"
     ]
    }
   ],
   "source": [
    "# example 1\n",
    "\n",
    "x = \"Hello, Geeks.\"\n",
    "\n",
    "print(str(x))\n",
    "print(str(2.0/11.0))\n",
    "print(\"===========================\")\n",
    "\n",
    "print(repr(x))\n",
    "print(repr(2.0/11.0))"
   ]
  },
  {
   "cell_type": "code",
   "execution_count": 20,
   "metadata": {},
   "outputs": [
    {
     "data": {
      "text/plain": [
       "str"
      ]
     },
     "execution_count": 20,
     "metadata": {},
     "output_type": "execute_result"
    }
   ],
   "source": [
    "b = repr(x)\n",
    "type(b)"
   ]
  },
  {
   "cell_type": "code",
   "execution_count": 23,
   "metadata": {},
   "outputs": [
    {
     "name": "stdout",
     "output_type": "stream",
     "text": [
      "2021-07-07 15:42:49.841831\n",
      "datetime.datetime(2021, 7, 7, 15, 42, 49, 841831)\n"
     ]
    }
   ],
   "source": [
    "# example 2\n",
    "\n",
    "import datetime\n",
    "\n",
    "today = datetime.datetime.now()\n",
    "\n",
    "# print readable format for date-time object\n",
    "print(str(today))\n",
    "\n",
    "print(repr(today))"
   ]
  },
  {
   "cell_type": "markdown",
   "metadata": {},
   "source": [
    "- `str()` displays today's date in a way that the user can understand the date and time.\n",
    "- `repr()` print the \"official\" representation of a date-time object (the \"official\" string representation we can reconstruct the object).\n",
    "\n",
    "# `__str__` vs `__repr__`\n",
    "- A user defined class should also have a `__repr__` if we need detailed information for debugging.\n",
    "- If we think it'd be useful to have a string version for users, we create a `__str__` function.\n",
    "\n",
    "### example 1:"
   ]
  },
  {
   "cell_type": "code",
   "execution_count": 25,
   "metadata": {},
   "outputs": [
    {
     "name": "stdout",
     "output_type": "stream",
     "text": [
      "10 + i20\n",
      "===============\n",
      "Rational(10, 20)\n"
     ]
    }
   ],
   "source": [
    "# A user defined class to represent Complex numbers\n",
    "\n",
    "class Complex:\n",
    "    # constructor\n",
    "    def __init__(self, real, imag):\n",
    "        self.real = real\n",
    "        self.imag = imag\n",
    "        \n",
    "    # For call to repr(). Prints object's information\n",
    "    def __repr__(self):\n",
    "        return 'Rational(%s, %s)' %(self.real, self.imag)\n",
    "    \n",
    "    # For call to str(). Prints readable form\n",
    "    def __str__(self):\n",
    "        return '%s + i%s' % (self.real, self.imag)\n",
    "    \n",
    "# Driver program to test above\n",
    "\n",
    "t = Complex(10, 20)\n",
    "\n",
    "# print\n",
    "print(str(t))\n",
    "\n",
    "print('===============')\n",
    "\n",
    "print(repr(t))"
   ]
  },
  {
   "cell_type": "markdown",
   "metadata": {},
   "source": [
    "### example 2:"
   ]
  },
  {
   "cell_type": "code",
   "execution_count": null,
   "metadata": {},
   "outputs": [],
   "source": [
    "class Car:\n",
    "    def __init__(self, color, mileage):\n",
    "        self.color = color\n",
    "        self.mileage = mileage\n",
    "        "
   ]
  },
  {
   "cell_type": "code",
   "execution_count": 2,
   "metadata": {},
   "outputs": [
    {
     "name": "stdout",
     "output_type": "stream",
     "text": [
      "<__main__.Car object at 0x7ff468bee730>\n"
     ]
    }
   ],
   "source": [
    "my_car = Car('red', 34567)\n",
    "\n",
    "# we don't want to have this result as below\n",
    "print(my_car)"
   ]
  },
  {
   "cell_type": "code",
   "execution_count": 3,
   "metadata": {},
   "outputs": [
    {
     "data": {
      "text/plain": [
       "<__main__.Car at 0x7ff468bee730>"
      ]
     },
     "execution_count": 3,
     "metadata": {},
     "output_type": "execute_result"
    }
   ],
   "source": [
    "my_car"
   ]
  },
  {
   "cell_type": "markdown",
   "metadata": {},
   "source": [
    "It only give us the memory address `0x7ff468bee730` or the id\n",
    "\n",
    "=> it's not super useful!"
   ]
  },
  {
   "cell_type": "code",
   "execution_count": 4,
   "metadata": {},
   "outputs": [
    {
     "name": "stdout",
     "output_type": "stream",
     "text": [
      "red 34567\n"
     ]
    }
   ],
   "source": [
    "# alternate solution\n",
    "\n",
    "print(my_car.color, my_car.mileage)"
   ]
  },
  {
   "cell_type": "code",
   "execution_count": 11,
   "metadata": {},
   "outputs": [
    {
     "name": "stdout",
     "output_type": "stream",
     "text": [
      "blue 1234\n"
     ]
    }
   ],
   "source": [
    "# Or they can add this\n",
    "class Car:\n",
    "    def __init__(self, color, mileage):\n",
    "        self.color = color\n",
    "        self.mileage = mileage\n",
    "    def to_string(self):\n",
    "        print(self.color, self.mileage)\n",
    "    \n",
    "my_car2 = Car('blue', 1234)\n",
    "\n",
    "my_car2.to_string()"
   ]
  },
  {
   "cell_type": "markdown",
   "metadata": {},
   "source": [
    "We can use the convention in Python\n",
    "- `__str__` (pronounce as stir)\n",
    "- `__repr__` (pronounce as reper)\n"
   ]
  },
  {
   "cell_type": "code",
   "execution_count": 31,
   "metadata": {},
   "outputs": [
    {
     "name": "stdout",
     "output_type": "stream",
     "text": [
      "a  red car\n"
     ]
    }
   ],
   "source": [
    "# with use of __str__\n",
    "class Car:\n",
    "    def __init__(self, color, mileage):\n",
    "        self.color = color\n",
    "        self.mileage = mileage\n",
    "        \n",
    "    def __str__(self):\n",
    "        return 'a {self.color} car'. format(self= self)\n",
    "\n",
    "# test \n",
    "my_car3 = Car('red', 37281)\n",
    "\n",
    "print(my_car3)"
   ]
  },
  {
   "cell_type": "code",
   "execution_count": 13,
   "metadata": {},
   "outputs": [
    {
     "data": {
      "text/plain": [
       "<__main__.Car at 0x7ff468c18b50>"
      ]
     },
     "execution_count": 13,
     "metadata": {},
     "output_type": "execute_result"
    }
   ],
   "source": [
    "my_car3"
   ]
  },
  {
   "cell_type": "markdown",
   "metadata": {},
   "source": [
    "We can also convert the return result to string:"
   ]
  },
  {
   "cell_type": "code",
   "execution_count": 14,
   "metadata": {},
   "outputs": [
    {
     "data": {
      "text/plain": [
       "'a red car'"
      ]
     },
     "execution_count": 14,
     "metadata": {},
     "output_type": "execute_result"
    }
   ],
   "source": [
    "str(my_car3)"
   ]
  },
  {
   "cell_type": "code",
   "execution_count": 17,
   "metadata": {},
   "outputs": [
    {
     "data": {
      "text/plain": [
       "'a red car'"
      ]
     },
     "execution_count": 17,
     "metadata": {},
     "output_type": "execute_result"
    }
   ],
   "source": [
    "'{}'.format(my_car3)"
   ]
  },
  {
   "cell_type": "code",
   "execution_count": 27,
   "metadata": {},
   "outputs": [
    {
     "name": "stdout",
     "output_type": "stream",
     "text": [
      "Car (orange,7891)\n"
     ]
    }
   ],
   "source": [
    "# with use of __repr__\n",
    "\n",
    "class Car:\n",
    "    def __init__(self, color, mileage):\n",
    "        self.color = color\n",
    "        self.mileage = mileage\n",
    "        \n",
    "    def __repr__(self):\n",
    "        # 'self.__class__.__name__' gives use the name of the class\n",
    "        return '{self.__class__.__name__} ({self.color},{self.mileage})'.format(self=self) \n",
    "\n",
    "# test\n",
    "my_car4 = Car('orange', 7891)\n",
    "\n",
    "print(my_car4)"
   ]
  },
  {
   "cell_type": "code",
   "execution_count": 28,
   "metadata": {},
   "outputs": [
    {
     "data": {
      "text/plain": [
       "Car (orange,7891)"
      ]
     },
     "execution_count": 28,
     "metadata": {},
     "output_type": "execute_result"
    }
   ],
   "source": [
    "my_car4"
   ]
  },
  {
   "cell_type": "markdown",
   "metadata": {},
   "source": [
    "END."
   ]
  }
 ],
 "metadata": {
  "kernelspec": {
   "display_name": "Python 3",
   "language": "python",
   "name": "python3"
  },
  "language_info": {
   "codemirror_mode": {
    "name": "ipython",
    "version": 3
   },
   "file_extension": ".py",
   "mimetype": "text/x-python",
   "name": "python",
   "nbconvert_exporter": "python",
   "pygments_lexer": "ipython3",
   "version": "3.8.5"
  }
 },
 "nbformat": 4,
 "nbformat_minor": 4
}
