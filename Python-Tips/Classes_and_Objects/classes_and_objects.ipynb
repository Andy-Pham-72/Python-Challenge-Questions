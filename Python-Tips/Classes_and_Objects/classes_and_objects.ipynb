{
 "cells": [
  {
   "cell_type": "markdown",
   "metadata": {},
   "source": [
    "# Classes and Objects\n",
    "\n",
    "**Problem**: Create a class `LenVal` which will store the length of any data passed and a `sho_val()` method or function inside the `LenVal` class to `print` the length.\n",
    "\n",
    "Create three objects of the class with the following values and use the `sho_val()` mehtod on them:\n",
    "\n",
    "```python\n",
    "'Head'\n",
    "[1, 9, 4, 2, 6]\n",
    "(1, )\n",
    "```"
   ]
  },
  {
   "cell_type": "code",
   "execution_count": 2,
   "metadata": {},
   "outputs": [],
   "source": [
    "class LenVal:\n",
    "    def __init__(self,lst):\n",
    "        self.List = lst\n",
    "        self.List_len = len(lst)\n",
    "    def sho_val(self):\n",
    "        print(self.List_len)"
   ]
  },
  {
   "cell_type": "code",
   "execution_count": 3,
   "metadata": {},
   "outputs": [
    {
     "name": "stdout",
     "output_type": "stream",
     "text": [
      "4\n",
      "5\n",
      "1\n"
     ]
    }
   ],
   "source": [
    "a = LenVal('Head')\n",
    "a.sho_val()\n",
    "\n",
    "b = LenVal([1,9,4,2,6])\n",
    "b.sho_val()\n",
    "\n",
    "c = LenVal((1,))\n",
    "c.sho_val()"
   ]
  }
 ],
 "metadata": {
  "kernelspec": {
   "display_name": "Python 3",
   "language": "python",
   "name": "python3"
  },
  "language_info": {
   "codemirror_mode": {
    "name": "ipython",
    "version": 3
   },
   "file_extension": ".py",
   "mimetype": "text/x-python",
   "name": "python",
   "nbconvert_exporter": "python",
   "pygments_lexer": "ipython3",
   "version": "3.8.5"
  }
 },
 "nbformat": 4,
 "nbformat_minor": 4
}
