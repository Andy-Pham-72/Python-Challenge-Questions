{
 "cells": [
  {
   "cell_type": "code",
   "execution_count": 3,
   "metadata": {},
   "outputs": [],
   "source": [
    "class SumPair():\n",
    "    def __init__(self, lst):\n",
    "        self.List = lst\n",
    "        self.List_len = len(lst)\n",
    "        self.i1 = 0\n",
    "        self.i2 = 1\n",
    "    \n",
    "    # built-in overloading make our SumPair class becomes iterable object\n",
    "    def __iter__(self):\n",
    "        return self\n",
    "        \n",
    "    def __next__(self):\n",
    "        if self.i2 == self.List_len:\n",
    "            raise StopIteration # Stop the iteration when \n",
    "        else:\n",
    "            self.sum_pair = self.List[self.i1] + self.List[self.i2]\n",
    "            self.i1 += 1\n",
    "            self.i2 += 1\n",
    "            return self.sum_pair"
   ]
  },
  {
   "cell_type": "code",
   "execution_count": 4,
   "metadata": {},
   "outputs": [
    {
     "name": "stdout",
     "output_type": "stream",
     "text": [
      "56\n",
      "100\n",
      "134\n",
      "90\n",
      "45\n"
     ]
    }
   ],
   "source": [
    "l = SumPair([12, 44, 56, 78, 12, 33])\n",
    "\n",
    "for i in l:\n",
    "    print(i)"
   ]
  },
  {
   "cell_type": "code",
   "execution_count": null,
   "metadata": {},
   "outputs": [],
   "source": []
  }
 ],
 "metadata": {
  "kernelspec": {
   "display_name": "Python 3",
   "language": "python",
   "name": "python3"
  },
  "language_info": {
   "codemirror_mode": {
    "name": "ipython",
    "version": 3
   },
   "file_extension": ".py",
   "mimetype": "text/x-python",
   "name": "python",
   "nbconvert_exporter": "python",
   "pygments_lexer": "ipython3",
   "version": "3.8.5"
  }
 },
 "nbformat": 4,
 "nbformat_minor": 4
}
