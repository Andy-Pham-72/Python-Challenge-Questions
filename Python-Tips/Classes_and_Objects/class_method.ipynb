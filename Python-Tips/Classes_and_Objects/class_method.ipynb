{
 "cells": [
  {
   "cell_type": "markdown",
   "metadata": {},
   "source": [
    "# ALternative constructors\n",
    "\n",
    "Python allows us to define class *methods* as well, using the `@classmethod` decorator and a special first argument `cls`.\n",
    "The main use of class methods is defining methods that return an instance of the classs, but aren't using the same code as `__init__()`\n",
    "\n",
    "For example, you are developong a time series package and want to define your own class for working with dates, `BetterDate`. The attributes of the class will be `year` , `month` , and `day`. \n",
    "\n",
    "You want to have a constructor that creates `BetterDate` objects given the values for year, month, and day, but you also want to be able to create `BetterDate` objects from strings like `2020-05-30`.\n",
    "\n",
    "You might find the following functions useful.\n",
    "    - `.split(\"-\")` method will split a string at `\"-\"` to an array, e.g. \n",
    "       `\"2020-04-30\".split(\"-\")` returns `[\"2020\", \"04, \"30]`.\n",
    "    - `int()` will convert a string into a number, e.g. `int(\"2019\")` is `2019`.\n",
    "    \n",
    "**INSTRUCTION**:\n",
    "\n",
    "* Add a class method `from_str()` that:\n",
    "        - accepts a string `datestr` of the format `YYYY-MM-DD`.\n",
    "        - splits `datestr` and converts each part into an integer.\n",
    "        - returns an instance of the class with the attributes set to the values extracted from `datestr`.\n",
    "        \n",
    "* For compatibility, you also want to be able to convert a `datetime` object into a `BetterDate` object.\n",
    "        - Add a class method `from_datetime()` that accepts a `datetime` object as the argument, and uses its attributes `.year`, `.month`, and `.day` to create a `BetterDate` object with the same attribute values.\n",
    "        \n"
   ]
  },
  {
   "cell_type": "code",
   "execution_count": 3,
   "metadata": {},
   "outputs": [
    {
     "name": "stdout",
     "output_type": "stream",
     "text": [
      "year:  2020\n",
      "month:  4\n",
      "day:  30\n",
      "==========================\n",
      "year:  2021\n",
      "month:  7\n",
      "day:  22\n"
     ]
    }
   ],
   "source": [
    "# import datetime from datetime\n",
    "from datetime import datetime\n",
    "\n",
    "class BetterDate:\n",
    "    def __init__(self, year, month, day):\n",
    "      self.year, self.month, self.day = year, month, day\n",
    "      \n",
    "    @classmethod\n",
    "    def from_str(cls, datestr):\n",
    "        year, month, day = map(int, datestr.split(\"-\"))\n",
    "        return cls(year, month, day)\n",
    "      \n",
    "    # Define a class method from_datetime accepting a datetime object\n",
    "    @classmethod\n",
    "    def from_datetime(cls, date):\n",
    "      year, month, day = date.year, date.month, date.day\n",
    "      return cls(year, month, day)\n",
    "\n",
    "# Checking the \"from_str\" class method\n",
    "bd = BetterDate.from_str('2020-04-30')\n",
    "print(\"year: \",bd.year)\n",
    "print(\"month: \",bd.month)\n",
    "print(\"day: \",bd.day)\n",
    "\n",
    "print(\"==========================\")\n",
    "# Check the \"from_datetime\" class method\n",
    "today = datetime.today()     \n",
    "bd = BetterDate.from_datetime(today)   \n",
    "print(\"year: \",bd.year)\n",
    "print(\"month: \",bd.month)\n",
    "print(\"day: \",bd.day)"
   ]
  },
  {
   "cell_type": "markdown",
   "metadata": {},
   "source": [
    "End."
   ]
  }
 ],
 "metadata": {
  "kernelspec": {
   "display_name": "Python 3",
   "language": "python",
   "name": "python3"
  },
  "language_info": {
   "codemirror_mode": {
    "name": "ipython",
    "version": 3
   },
   "file_extension": ".py",
   "mimetype": "text/x-python",
   "name": "python",
   "nbconvert_exporter": "python",
   "pygments_lexer": "ipython3",
   "version": "3.8.5"
  }
 },
 "nbformat": 4,
 "nbformat_minor": 4
}
