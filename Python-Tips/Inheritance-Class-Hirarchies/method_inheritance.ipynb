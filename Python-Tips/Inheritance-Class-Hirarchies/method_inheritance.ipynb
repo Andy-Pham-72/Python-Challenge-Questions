{
 "cells": [
  {
   "cell_type": "markdown",
   "metadata": {},
   "source": [
    "# Method inheritance\n",
    "\n",
    "Inheritance is powerful because it allows us to reuse and customize code withour rewriting exisisting code. By calling methods of the parent class within the child class, we reuse al the code in those methods, making our code concise and manageable.\n",
    "\n",
    "In this example, we'll continue working with the `Manager` class that is inherited from the `Employee` class.\n",
    "You will add new data to the class, and customize the `give_raise()` method from the `class_method` notebook to increase the manager's raise amount by a bonus percentage whenever they are given a raise.\n",
    "\n",
    "A simplified version of the `Employee` class, as well as the beginning of the `Manager` class from the `class_method` notebook is showed below.\n",
    "\n",
    "**Instruction**\n",
    "\n",
    "* Add a constructor to `Manager` that:\n",
    "        * accepts `name`, `salary` (default `50000`), and `project` (default `None`)\n",
    "        * calls the constructor of the `Employee` class with the `name` and `salary` parameters.\n",
    "        * creates a `project` attribute and sets it to the `project` parameter.\n",
    "        \n",
    "* Add a `give_raise()` method to `Manager` that:\n",
    "        * accepts the same parameters as `Employee.give_raise()`, plus a `bonus` parameter with the default value of `1.05` (bonus of 5%).\n",
    "        * multiples `amount` by `bonus`.\n",
    "        * uses the `Employee`'s method to raise salary by that product."
   ]
  },
  {
   "cell_type": "code",
   "execution_count": 1,
   "metadata": {},
   "outputs": [
    {
     "name": "stdout",
     "output_type": "stream",
     "text": [
      "79550.0\n",
      "81610.0\n"
     ]
    }
   ],
   "source": [
    "class Employee:\n",
    "    def __init__(self, name, salary=30000):\n",
    "        self.name = name\n",
    "        self.salary = salary\n",
    "\n",
    "    def give_raise(self, amount):\n",
    "        self.salary += amount\n",
    "\n",
    "        \n",
    "class Manager(Employee):\n",
    "    def display(self):\n",
    "        print(\"Manager \", self.name)\n",
    "\n",
    "    def __init__(self, name, salary=50000, project=None):\n",
    "        Employee.__init__(self, name, salary)\n",
    "        self.project = project\n",
    "\n",
    "    # Add a give_raise method\n",
    "    def give_raise(self,amount, bonus = 1.05):\n",
    "        Employee.give_raise(self, amount * bonus)\n",
    "    \n",
    "# Check the Method inheritance \"give_raise\" in \"Manager\" class  \n",
    "mngr = Manager(\"Ashta Dunbar\", 78500)\n",
    "mngr.give_raise(1000)\n",
    "print(mngr.salary)\n",
    "mngr.give_raise(2000, bonus=1.03)\n",
    "print(mngr.salary)"
   ]
  },
  {
   "cell_type": "markdown",
   "metadata": {},
   "source": [
    "END."
   ]
  }
 ],
 "metadata": {
  "kernelspec": {
   "display_name": "Python 3",
   "language": "python",
   "name": "python3"
  },
  "language_info": {
   "codemirror_mode": {
    "name": "ipython",
    "version": 3
   },
   "file_extension": ".py",
   "mimetype": "text/x-python",
   "name": "python",
   "nbconvert_exporter": "python",
   "pygments_lexer": "ipython3",
   "version": "3.8.5"
  }
 },
 "nbformat": 4,
 "nbformat_minor": 4
}
