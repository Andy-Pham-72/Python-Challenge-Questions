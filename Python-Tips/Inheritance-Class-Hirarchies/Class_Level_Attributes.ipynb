{
 "cells": [
  {
   "cell_type": "markdown",
   "metadata": {},
   "source": [
    "# Class-Level Attributes\n",
    "\n",
    "Class attributes store data that is shared among all the class instances. They are assigned values in the class body, and referred to using the `ClassName`. Syntax rather than `self.` syntax when used in methods.\n",
    "\n",
    "In this exercise, you will be a game developer working on a game that will have several players moving on a grid and interacting with each other. As the first step, you want to define a `Player` class that will kist move along a straight line. `Player` will have a `position` attribute and a `move()` method. The grid is limited, so the `position` of `Player` will have a maximal value.\n",
    "\n",
    "**Instruction**:\n",
    "* Add a `move()` method with a `steps` parameter such that:\n",
    "    - if `position` plus `steps` is less than `MAX_POSITION`, then add `steps` to `position` and assign the result back to `position`;\n",
    "    - otherwise, set `position` to `MAX_POSITION`\n",
    "    "
   ]
  },
  {
   "cell_type": "code",
   "execution_count": 1,
   "metadata": {},
   "outputs": [
    {
     "name": "stdout",
     "output_type": "stream",
     "text": [
      "|----------------------------------------------------------------------------------------------------\n",
      "----|------------------------------------------------------------------------------------------------\n",
      "---------|-------------------------------------------------------------------------------------------\n",
      "------------|----------------------------------------------------------------------------------------\n"
     ]
    }
   ],
   "source": [
    "class Player:\n",
    "    MAX_POSITION = 100\n",
    "    \n",
    "    def __init__(self):\n",
    "        self.position = 0\n",
    "        \n",
    "    # Add a move() method with steps parameter\n",
    "    def move(self, steps):\n",
    "        self.steps = steps\n",
    "        \n",
    "        total = self.position + self.steps\n",
    "        \n",
    "        if total < Player.MAX_POSITION:\n",
    "            self.position = self.position + self.steps\n",
    "            \n",
    "        else:\n",
    "            self.position = Player.MAX_POSITION\n",
    "    \n",
    "    # This method provide a rudimentary visualization in the console\n",
    "    def draw(self):\n",
    "        drawing = \"-\" * self.position + \"|\" + \"-\"*(Player.MAX_POSITION - self.position)\n",
    "        print(drawing)\n",
    "        \n",
    "# Checking the Player class and its methods\n",
    "\n",
    "p = Player(); p.draw()\n",
    "p.move(4) ; p.draw()\n",
    "p.move(5) ; p.draw()\n",
    "p.move(3) ; p.draw()"
   ]
  },
  {
   "cell_type": "markdown",
   "metadata": {},
   "source": [
    "END."
   ]
  }
 ],
 "metadata": {
  "kernelspec": {
   "display_name": "Python 3",
   "language": "python",
   "name": "python3"
  },
  "language_info": {
   "codemirror_mode": {
    "name": "ipython",
    "version": 3
   },
   "file_extension": ".py",
   "mimetype": "text/x-python",
   "name": "python",
   "nbconvert_exporter": "python",
   "pygments_lexer": "ipython3",
   "version": "3.8.5"
  }
 },
 "nbformat": 4,
 "nbformat_minor": 4
}
