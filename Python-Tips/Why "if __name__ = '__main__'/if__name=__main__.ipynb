{
 "cells": [
  {
   "cell_type": "markdown",
   "metadata": {},
   "source": [
    "When your script is run by passing it as a command to the Python interpreter,\n",
    "```\n",
    "python myscript.py\n",
    "```\n",
    "All of the code that is at indentation level 0 gets executed. \n",
    "\n",
    "Functions and classes that are defined are, well, defined, but none of their code gets run. \n",
    "\n",
    "Unlike other languages, there's no `main()` function that gets run automatically - the `main()` function is implicitly all the code at the top level.\n",
    "\n",
    "In this case, the top-level code is an if block. __name__ is a built-in variable which **evaluates** to the name of the current module. \n",
    "However, if a module is being run directly (as in myscript.py above), then __name__ instead is set to the string \"__main__\". Thus, you can test whether your script is being run directly or being imported by something else by testing as below:\n",
    "\n",
    "\n",
    "\n",
    "```python\n",
    "# file one.py\n",
    "\n",
    "def func():\n",
    "    print(\"func() in one.py\")\n",
    "\n",
    "print(\"top-level in one.py\")\n",
    "\n",
    "if __name__ == \"__main__\":\n",
    "    print(\"one.py is being run directly\")\n",
    "else:\n",
    "    print(\"one.py is being imported into another module\")\n",
    "```\n"
   ]
  },
  {
   "cell_type": "markdown",
   "metadata": {},
   "source": [
    "```python\n",
    "# file two.py\n",
    "\n",
    "import foo \n",
    "print(\"top-level in two.py\")\n",
    "foo.func()\n",
    "\n",
    "if __name__ == \"__main__\":\n",
    "    print(\"two.py is being run directly\")\n",
    "\n",
    "else:\n",
    "    print(\"two.py is being imported into another module\")\n",
    "```\n",
    "    "
   ]
  },
  {
   "cell_type": "markdown",
   "metadata": {},
   "source": [
    "if we run `one.py`:\n",
    "\n",
    "```python\n",
    "python one.py\n",
    "\n",
    "top-level in one.py\n",
    "one.py is being run directly\n",
    "\n",
    "```\n"
   ]
  },
  {
   "cell_type": "markdown",
   "metadata": {},
   "source": [
    "if we run `two.py`:\n",
    "\n",
    "```python\n",
    "top-level in one.py\n",
    "one.py is being imported into another module\n",
    "top-level in two.py\n",
    "func() in one.py\n",
    "two.py is being run directly\n",
    "\n",
    "```"
   ]
  }
 ],
 "metadata": {
  "kernelspec": {
   "display_name": "Python 3",
   "language": "python",
   "name": "python3"
  },
  "language_info": {
   "codemirror_mode": {
    "name": "ipython",
    "version": 3
   },
   "file_extension": ".py",
   "mimetype": "text/x-python",
   "name": "python",
   "nbconvert_exporter": "python",
   "pygments_lexer": "ipython3",
   "version": "3.8.5"
  }
 },
 "nbformat": 4,
 "nbformat_minor": 4
}
