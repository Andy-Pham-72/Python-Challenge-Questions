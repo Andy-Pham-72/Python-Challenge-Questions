{
 "cells": [
  {
   "cell_type": "markdown",
   "metadata": {},
   "source": [
    "# Find the most repeated word in a text file\n",
    "\n",
    "### Challenge\n",
    "\n",
    "Create a python script to parse a text file and return the most repeated word and the frequency of it.\n",
    "\n",
    "For exampple:\n",
    "\n",
    "- We have a `you were there.txt` file with the content as below:\n",
    "\n",
    "```\n",
    "You Were There\n",
    "\n",
    "When tears fell from my eyes,\n",
    "you were there to brush them away.\n",
    "When I was lost in confusion,\n",
    "you were there to say that everything would be okay.\n",
    "When I stood before you falling apart,\n",
    "you were there to lend your heart.\n",
    "When I felt like no one could understand,\n",
    "you were there to take my hand.\n",
    "When no one else was left to care,\n",
    "you were there.\n",
    "\n",
    "```\n",
    "\n",
    "### Approach:\n",
    "\n",
    "- We will take the content of the file as input.\n",
    "- We will save each word in a list after removing spaces and punctuations from the input string.\n",
    "- Find the frequency of each word.\n",
    "- Print the word which has a maximum frequency.\n"
   ]
  },
  {
   "cell_type": "code",
   "execution_count": 39,
   "metadata": {
    "tags": []
   },
   "outputs": [],
   "source": [
    " def most_repeated_word_txt(text):\n",
    "    # assign the string from the txt file into a variable\n",
    "    file = open(text, \"r\")\n",
    "\n",
    "    # assign an empty string into a variable\n",
    "    frequent_word = \"\"\n",
    "\n",
    "    frequency = 0\n",
    "\n",
    "    words = []\n",
    "\n",
    "    # traverse file line by line\n",
    "\n",
    "    for line in file:\n",
    "\n",
    "        # splits each line into words and removing spaces + punctations from the input\n",
    "        line_word = line.lower().replace(',','').replace('.','').replace('\\n','').split(\" \")\n",
    "\n",
    "        # adding the a list\n",
    "        for word in line_word:\n",
    "            words.append(word)\n",
    "\n",
    "    # find the max occured word\n",
    "    for a in range(0, len(words)):\n",
    "\n",
    "        # declare count\n",
    "        count = 1\n",
    "\n",
    "        # count each word in the txt\n",
    "        for b in range(a+1, len(words)): \n",
    "            if (words[a] == words[b]): # check whether the next word is the same or not.\n",
    "                count = count + 1 # if the statement is True, add 1 into variable count\n",
    "\n",
    "        # if the count value is more than highest frequency then\n",
    "        if (count > frequency): \n",
    "            frequency = count \n",
    "            frequent_word = words[a] # assign the most repeated word into the variable\n",
    "\n",
    "    print(\"most repeated word: \" , frequent_word)\n",
    "\n",
    "    print(\"frequency: \" , str(frequency))\n",
    "\n",
    "    # close the file\n",
    "    file.close()"
   ]
  },
  {
   "cell_type": "code",
   "execution_count": 40,
   "metadata": {
    "tags": []
   },
   "outputs": [
    {
     "name": "stdout",
     "output_type": "stream",
     "text": [
      "most repeated word:  you\n",
      "frequency:  7\n"
     ]
    }
   ],
   "source": [
    "most_repeated_word_txt(\"you_were_there.txt\")"
   ]
  },
  {
   "cell_type": "markdown",
   "metadata": {},
   "source": [
    "END"
   ]
  }
 ],
 "metadata": {
  "kernelspec": {
   "display_name": "Python 3",
   "language": "python",
   "name": "python3"
  },
  "language_info": {
   "codemirror_mode": {
    "name": "ipython",
    "version": 3
   },
   "file_extension": ".py",
   "mimetype": "text/x-python",
   "name": "python",
   "nbconvert_exporter": "python",
   "pygments_lexer": "ipython3",
   "version": "3.8.5"
  }
 },
 "nbformat": 4,
 "nbformat_minor": 4
}
