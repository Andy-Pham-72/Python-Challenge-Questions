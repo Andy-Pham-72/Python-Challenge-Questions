{
 "cells": [
  {
   "cell_type": "markdown",
   "metadata": {},
   "source": [
    "You are given a valid XML document, and you have to print the maximum level of nesting in it. Take the depth of the root as .\n",
    "\n",
    "**Input Format**\n",
    "The first line contains , the number of lines in the XML document. \n",
    "The next  lines follow containing the XML document.\n",
    "\n",
    "**Output Format**\n",
    "Output a single line, the integer value of the maximum level of nesting in the XML document.\n",
    "\n",
    "**Sample Input**\n",
    "```xml\n",
    "6\n",
    "<feed xml:lang='en'>\n",
    "    <title>HackerRank</title>\n",
    "    <subtitle lang='en'>Programming challenges</subtitle>\n",
    "    <link rel='alternate' type='text/html' href='http://hackerrank.com/'/>\n",
    "    <updated>2013-12-25T12:00:00</updated>\n",
    "</feed>\n",
    "```\n",
    "**Sample Output**\n",
    "```\n",
    "1\n",
    "```\n",
    "\n",
    "**Explanation**\n",
    "Here, the root is a feed tag, which has depth of . \n",
    "The tags title, subtitle, link and updated all have a depth of . \n",
    "Thus, the maximum depth is 1."
   ]
  },
  {
   "cell_type": "code",
   "execution_count": 22,
   "metadata": {},
   "outputs": [
    {
     "name": "stdout",
     "output_type": "stream",
     "text": [
      "6\n",
      "<feed xml:lang='en'>\n",
      "    <title>HackerRank</title>\n",
      "    <subtitle lang='en'>Programming challenges</subtitle>\n",
      "    <link rel='alternate' type='text/html' href='http://hackerrank.com/'/>\n",
      "    <updated>2013-12-25T12:00:00</updated>\n",
      "</feed>\n",
      "1\n"
     ]
    }
   ],
   "source": [
    "import xml.etree.ElementTree as etree\n",
    "\n",
    "maxdepth = 0\n",
    "def depth(elem, level):\n",
    "    global maxdepth\n",
    "    # your code goes here\n",
    "    if (level == maxdepth):\n",
    "        maxdepth += 1\n",
    "    for child in elem:\n",
    "        depth(child, level+1)\n",
    "        \n",
    "        \n",
    "if __name__ == '__main__':\n",
    "    n = int(input())\n",
    "    xml = \"\"\n",
    "    for i in range(n):\n",
    "        xml =  xml + input() + \"\\n\"\n",
    "    tree = etree.ElementTree(etree.fromstring(xml))\n",
    "    depth(tree.getroot(), -1)\n",
    "    print(maxdepth)"
   ]
  },
  {
   "cell_type": "markdown",
   "metadata": {},
   "source": [
    "END."
   ]
  }
 ],
 "metadata": {
  "kernelspec": {
   "display_name": "Python 3",
   "language": "python",
   "name": "python3"
  },
  "language_info": {
   "codemirror_mode": {
    "name": "ipython",
    "version": 3
   },
   "file_extension": ".py",
   "mimetype": "text/x-python",
   "name": "python",
   "nbconvert_exporter": "python",
   "pygments_lexer": "ipython3",
   "version": "3.8.5"
  }
 },
 "nbformat": 4,
 "nbformat_minor": 4
}
